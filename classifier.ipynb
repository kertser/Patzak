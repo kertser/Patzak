{
 "cells": [
  {
   "cell_type": "code",
   "execution_count": 106,
   "metadata": {
    "collapsed": true,
    "pycharm": {
     "name": "#%%\n"
    }
   },
   "outputs": [],
   "source": [
    "# imports:\n",
    "import pandas as pd\n",
    "from sklearn.cluster import KMeans\n",
    "import pickle\n",
    "pazak = {0:'Pazak',1:'Chatlanin'}\n",
    "\n",
    "from keras.models import Sequential\n",
    "from keras.models import load_model\n",
    "from keras.layers import Dense\n",
    "from keras.layers import Dropout\n",
    "from keras.callbacks import EarlyStopping\n",
    "from keras.callbacks import ModelCheckpoint\n",
    "from keras.metrics import AUC\n",
    "\n",
    "from sklearn.model_selection import train_test_split\n",
    "from sklearn.model_selection import StratifiedKFold\n",
    "from scikeras.wrappers import KerasClassifier\n",
    "from sklearn.model_selection import cross_val_score\n",
    "\n",
    "from matplotlib import pyplot as plt"
   ]
  },
  {
   "cell_type": "code",
   "execution_count": 2,
   "outputs": [
    {
     "data": {
      "text/plain": "   left_eye-right_eye  left_eye-nose  left_eye-mouth_left  \\\n0            0.436686       0.293929             0.395205   \n1            0.456806       0.315478             0.393492   \n2            0.322055       0.361824             0.398738   \n3            0.460852       0.304153             0.346807   \n4            0.458330       0.338282             0.357675   \n\n   left_eye-mouth_right  right_eye-left_eye  right_eye-nose  \\\n0              0.534884            0.436686        0.414687   \n1              0.565061            0.456806        0.306828   \n2              0.552498            0.322055        0.132640   \n3              0.524620            0.460852        0.320136   \n4              0.570839            0.458330        0.268791   \n\n   right_eye-mouth_left  right_eye-mouth_right  nose-left_eye  nose-right_eye  \\\n0              0.623971               0.396065       0.293929        0.414687   \n1              0.578675               0.385199       0.315478        0.306828   \n2              0.432794               0.386573       0.361824        0.132640   \n3              0.588235               0.354559       0.304153        0.320136   \n4              0.537670               0.352675       0.338282        0.268791   \n\n   nose-mouth_left  nose-mouth_right  mouth_left-left_eye  \\\n0         0.209624          0.274371             0.395205   \n1         0.271917          0.249626             0.393492   \n2         0.332479          0.254903             0.398738   \n3         0.270767          0.221016             0.346807   \n4         0.271729          0.233396             0.357675   \n\n   mouth_left-right_eye  mouth_left-nose  mouth_left-mouth_right  \\\n0              0.623971         0.209624                0.414936   \n1              0.578675         0.271917                0.384240   \n2              0.432794         0.332479                0.285892   \n3              0.588235         0.270767                0.407139   \n4              0.537670         0.271729                0.395606   \n\n   mouth_right-left_eye  mouth_right-right_eye  mouth_right-nose  \\\n0              0.534884               0.396065          0.274371   \n1              0.565061               0.385199          0.249626   \n2              0.552498               0.386573          0.254903   \n3              0.524620               0.354559          0.221016   \n4              0.570839               0.352675          0.233396   \n\n   mouth_right-mouth_left  \n0                0.414936  \n1                0.384240  \n2                0.285892  \n3                0.407139  \n4                0.395606  ",
      "text/html": "<div>\n<style scoped>\n    .dataframe tbody tr th:only-of-type {\n        vertical-align: middle;\n    }\n\n    .dataframe tbody tr th {\n        vertical-align: top;\n    }\n\n    .dataframe thead th {\n        text-align: right;\n    }\n</style>\n<table border=\"1\" class=\"dataframe\">\n  <thead>\n    <tr style=\"text-align: right;\">\n      <th></th>\n      <th>left_eye-right_eye</th>\n      <th>left_eye-nose</th>\n      <th>left_eye-mouth_left</th>\n      <th>left_eye-mouth_right</th>\n      <th>right_eye-left_eye</th>\n      <th>right_eye-nose</th>\n      <th>right_eye-mouth_left</th>\n      <th>right_eye-mouth_right</th>\n      <th>nose-left_eye</th>\n      <th>nose-right_eye</th>\n      <th>nose-mouth_left</th>\n      <th>nose-mouth_right</th>\n      <th>mouth_left-left_eye</th>\n      <th>mouth_left-right_eye</th>\n      <th>mouth_left-nose</th>\n      <th>mouth_left-mouth_right</th>\n      <th>mouth_right-left_eye</th>\n      <th>mouth_right-right_eye</th>\n      <th>mouth_right-nose</th>\n      <th>mouth_right-mouth_left</th>\n    </tr>\n  </thead>\n  <tbody>\n    <tr>\n      <th>0</th>\n      <td>0.436686</td>\n      <td>0.293929</td>\n      <td>0.395205</td>\n      <td>0.534884</td>\n      <td>0.436686</td>\n      <td>0.414687</td>\n      <td>0.623971</td>\n      <td>0.396065</td>\n      <td>0.293929</td>\n      <td>0.414687</td>\n      <td>0.209624</td>\n      <td>0.274371</td>\n      <td>0.395205</td>\n      <td>0.623971</td>\n      <td>0.209624</td>\n      <td>0.414936</td>\n      <td>0.534884</td>\n      <td>0.396065</td>\n      <td>0.274371</td>\n      <td>0.414936</td>\n    </tr>\n    <tr>\n      <th>1</th>\n      <td>0.456806</td>\n      <td>0.315478</td>\n      <td>0.393492</td>\n      <td>0.565061</td>\n      <td>0.456806</td>\n      <td>0.306828</td>\n      <td>0.578675</td>\n      <td>0.385199</td>\n      <td>0.315478</td>\n      <td>0.306828</td>\n      <td>0.271917</td>\n      <td>0.249626</td>\n      <td>0.393492</td>\n      <td>0.578675</td>\n      <td>0.271917</td>\n      <td>0.384240</td>\n      <td>0.565061</td>\n      <td>0.385199</td>\n      <td>0.249626</td>\n      <td>0.384240</td>\n    </tr>\n    <tr>\n      <th>2</th>\n      <td>0.322055</td>\n      <td>0.361824</td>\n      <td>0.398738</td>\n      <td>0.552498</td>\n      <td>0.322055</td>\n      <td>0.132640</td>\n      <td>0.432794</td>\n      <td>0.386573</td>\n      <td>0.361824</td>\n      <td>0.132640</td>\n      <td>0.332479</td>\n      <td>0.254903</td>\n      <td>0.398738</td>\n      <td>0.432794</td>\n      <td>0.332479</td>\n      <td>0.285892</td>\n      <td>0.552498</td>\n      <td>0.386573</td>\n      <td>0.254903</td>\n      <td>0.285892</td>\n    </tr>\n    <tr>\n      <th>3</th>\n      <td>0.460852</td>\n      <td>0.304153</td>\n      <td>0.346807</td>\n      <td>0.524620</td>\n      <td>0.460852</td>\n      <td>0.320136</td>\n      <td>0.588235</td>\n      <td>0.354559</td>\n      <td>0.304153</td>\n      <td>0.320136</td>\n      <td>0.270767</td>\n      <td>0.221016</td>\n      <td>0.346807</td>\n      <td>0.588235</td>\n      <td>0.270767</td>\n      <td>0.407139</td>\n      <td>0.524620</td>\n      <td>0.354559</td>\n      <td>0.221016</td>\n      <td>0.407139</td>\n    </tr>\n    <tr>\n      <th>4</th>\n      <td>0.458330</td>\n      <td>0.338282</td>\n      <td>0.357675</td>\n      <td>0.570839</td>\n      <td>0.458330</td>\n      <td>0.268791</td>\n      <td>0.537670</td>\n      <td>0.352675</td>\n      <td>0.338282</td>\n      <td>0.268791</td>\n      <td>0.271729</td>\n      <td>0.233396</td>\n      <td>0.357675</td>\n      <td>0.537670</td>\n      <td>0.271729</td>\n      <td>0.395606</td>\n      <td>0.570839</td>\n      <td>0.352675</td>\n      <td>0.233396</td>\n      <td>0.395606</td>\n    </tr>\n  </tbody>\n</table>\n</div>"
     },
     "execution_count": 2,
     "metadata": {},
     "output_type": "execute_result"
    }
   ],
   "source": [
    "# Load euclidean distances data\n",
    "df = pd.read_csv('Data/faces_euclidean_features.csv')\n",
    "df.head()"
   ],
   "metadata": {
    "collapsed": false,
    "pycharm": {
     "name": "#%%\n"
    }
   }
  },
  {
   "cell_type": "code",
   "execution_count": 25,
   "outputs": [],
   "source": [
    "model = KMeans(n_clusters=2, random_state=42).fit(df)"
   ],
   "metadata": {
    "collapsed": false,
    "pycharm": {
     "name": "#%%\n"
    }
   }
  },
  {
   "cell_type": "code",
   "execution_count": 47,
   "outputs": [],
   "source": [
    "with open(\"pazak.pkl\", \"wb\") as f:\n",
    "    pickle.dump(model, f)"
   ],
   "metadata": {
    "collapsed": false,
    "pycharm": {
     "name": "#%%\n"
    }
   }
  },
  {
   "cell_type": "code",
   "execution_count": null,
   "outputs": [],
   "source": [
    "with open(\"model.pkl\", \"rb\") as f:\n",
    "    model = pickle.load(f)"
   ],
   "metadata": {
    "collapsed": false,
    "pycharm": {
     "name": "#%%\n"
    }
   }
  },
  {
   "cell_type": "code",
   "execution_count": 54,
   "outputs": [
    {
     "data": {
      "text/plain": "'Chatlanin'"
     },
     "execution_count": 54,
     "metadata": {},
     "output_type": "execute_result"
    }
   ],
   "source": [
    "pazak[model.predict([df.iloc[11]])[0]]"
   ],
   "metadata": {
    "collapsed": false,
    "pycharm": {
     "name": "#%%\n"
    }
   }
  },
  {
   "cell_type": "code",
   "execution_count": 29,
   "outputs": [],
   "source": [
    "# Add k-Means predicted class to the dataframe\n",
    "df['predictor'] = model.predict(df)"
   ],
   "metadata": {
    "collapsed": false,
    "pycharm": {
     "name": "#%%\n"
    }
   }
  },
  {
   "cell_type": "code",
   "execution_count": 45,
   "outputs": [
    {
     "data": {
      "text/plain": "0    0.778521\n1    0.221479\nName: predictor, dtype: float64"
     },
     "execution_count": 45,
     "metadata": {},
     "output_type": "execute_result"
    }
   ],
   "source": [
    "df['predictor'].value_counts(normalize=True)"
   ],
   "metadata": {
    "collapsed": false,
    "pycharm": {
     "name": "#%%\n"
    }
   }
  },
  {
   "cell_type": "code",
   "execution_count": 79,
   "outputs": [],
   "source": [
    "# Analyze class imbalance in the targets:\n",
    "weight_for_0 = 1.0 / df['predictor'].value_counts(normalize=True)[0] # Pazaks\n",
    "weight_for_1 = 1.0 / df['predictor'].value_counts(normalize=True)[1] # Chatlanins"
   ],
   "metadata": {
    "collapsed": false,
    "pycharm": {
     "name": "#%%\n"
    }
   }
  },
  {
   "cell_type": "code",
   "execution_count": 162,
   "outputs": [],
   "source": [
    "# Building a binary classification model:\n",
    "def create_model(input_shape=20,neurons = 100):\n",
    "    model = Sequential()\n",
    "    model.add(Dense(neurons,input_shape=(input_shape,),activation='relu'))\n",
    "    model.add(Dropout(0.3))\n",
    "    model.add(Dense(neurons,activation='relu'))\n",
    "    model.add(Dropout(0.3))\n",
    "    model.add(Dense(neurons,activation='relu'))\n",
    "    model.add(Dropout(0.3))\n",
    "    model.add(Dense(1,activation='sigmoid'))\n",
    "    model.summary()\n",
    "\n",
    "    model.compile(loss='binary_crossentropy',optimizer='adam', metrics=['accuracy'])\n",
    "    #model.compile(loss='binary_crossentropy',optimizer='adam', metrics=[AUC()])\n",
    "    return model"
   ],
   "metadata": {
    "collapsed": false,
    "pycharm": {
     "name": "#%%\n"
    }
   }
  },
  {
   "cell_type": "code",
   "execution_count": 160,
   "outputs": [
    {
     "name": "stdout",
     "output_type": "stream",
     "text": [
      "Model: \"sequential_27\"\n",
      "_________________________________________________________________\n",
      " Layer (type)                Output Shape              Param #   \n",
      "=================================================================\n",
      " dense_78 (Dense)            (None, 100)               2100      \n",
      "                                                                 \n",
      " dropout_39 (Dropout)        (None, 100)               0         \n",
      "                                                                 \n",
      " dense_79 (Dense)            (None, 100)               10100     \n",
      "                                                                 \n",
      " dropout_40 (Dropout)        (None, 100)               0         \n",
      "                                                                 \n",
      " dense_80 (Dense)            (None, 100)               10100     \n",
      "                                                                 \n",
      " dropout_41 (Dropout)        (None, 100)               0         \n",
      "                                                                 \n",
      " dense_81 (Dense)            (None, 1)                 101       \n",
      "                                                                 \n",
      "=================================================================\n",
      "Total params: 22,401\n",
      "Trainable params: 22,401\n",
      "Non-trainable params: 0\n",
      "_________________________________________________________________\n"
     ]
    }
   ],
   "source": [
    "model1 = create_model(input_shape=len(df.columns)-1,neurons=100)"
   ],
   "metadata": {
    "collapsed": false,
    "pycharm": {
     "name": "#%%\n"
    }
   }
  },
  {
   "cell_type": "code",
   "execution_count": 62,
   "outputs": [],
   "source": [
    "X = df.drop(['predictor'],axis=1)\n",
    "y = df['predictor']"
   ],
   "metadata": {
    "collapsed": false,
    "pycharm": {
     "name": "#%%\n"
    }
   }
  },
  {
   "cell_type": "code",
   "execution_count": 147,
   "outputs": [],
   "source": [
    "X_train, X_test, y_train, y_test = train_test_split(X, y, test_size=0.20)"
   ],
   "metadata": {
    "collapsed": false,
    "pycharm": {
     "name": "#%%\n"
    }
   }
  },
  {
   "cell_type": "code",
   "execution_count": 161,
   "outputs": [
    {
     "name": "stdout",
     "output_type": "stream",
     "text": [
      "Epoch 1/4000\n"
     ]
    },
    {
     "ename": "TypeError",
     "evalue": "in user code:\n\n    File \"C:\\Users\\kerts\\Documents\\Projects\\Python\\PazakDetector\\venv\\lib\\site-packages\\keras\\engine\\training.py\", line 1160, in train_function  *\n        return step_function(self, iterator)\n    File \"C:\\Users\\kerts\\Documents\\Projects\\Python\\PazakDetector\\venv\\lib\\site-packages\\keras\\engine\\training.py\", line 1146, in step_function  **\n        outputs = model.distribute_strategy.run(run_step, args=(data,))\n    File \"C:\\Users\\kerts\\Documents\\Projects\\Python\\PazakDetector\\venv\\lib\\site-packages\\keras\\engine\\training.py\", line 1135, in run_step  **\n        outputs = model.train_step(data)\n    File \"C:\\Users\\kerts\\Documents\\Projects\\Python\\PazakDetector\\venv\\lib\\site-packages\\keras\\engine\\training.py\", line 998, in train_step\n        return self.compute_metrics(x, y, y_pred, sample_weight)\n    File \"C:\\Users\\kerts\\Documents\\Projects\\Python\\PazakDetector\\venv\\lib\\site-packages\\keras\\engine\\training.py\", line 1092, in compute_metrics\n        self.compiled_metrics.update_state(y, y_pred, sample_weight)\n    File \"C:\\Users\\kerts\\Documents\\Projects\\Python\\PazakDetector\\venv\\lib\\site-packages\\keras\\engine\\compile_utils.py\", line 577, in update_state\n        self.build(y_pred, y_true)\n    File \"C:\\Users\\kerts\\Documents\\Projects\\Python\\PazakDetector\\venv\\lib\\site-packages\\keras\\engine\\compile_utils.py\", line 483, in build\n        self._metrics = tf.__internal__.nest.map_structure_up_to(\n    File \"C:\\Users\\kerts\\Documents\\Projects\\Python\\PazakDetector\\venv\\lib\\site-packages\\keras\\engine\\compile_utils.py\", line 631, in _get_metric_objects\n        return [self._get_metric_object(m, y_t, y_p) for m in metrics]\n    File \"C:\\Users\\kerts\\Documents\\Projects\\Python\\PazakDetector\\venv\\lib\\site-packages\\keras\\engine\\compile_utils.py\", line 631, in <listcomp>\n        return [self._get_metric_object(m, y_t, y_p) for m in metrics]\n    File \"C:\\Users\\kerts\\Documents\\Projects\\Python\\PazakDetector\\venv\\lib\\site-packages\\keras\\engine\\compile_utils.py\", line 650, in _get_metric_object\n        metric_obj = metrics_mod.get(metric)\n    File \"C:\\Users\\kerts\\Documents\\Projects\\Python\\PazakDetector\\venv\\lib\\site-packages\\keras\\metrics\\__init__.py\", line 181, in get\n        return deserialize(str(identifier))\n    File \"C:\\Users\\kerts\\Documents\\Projects\\Python\\PazakDetector\\venv\\lib\\site-packages\\keras\\metrics\\__init__.py\", line 136, in deserialize\n        return deserialize_keras_object(\n    File \"C:\\Users\\kerts\\Documents\\Projects\\Python\\PazakDetector\\venv\\lib\\site-packages\\keras\\utils\\generic_utils.py\", line 780, in deserialize_keras_object\n        return obj()\n    File \"C:\\Users\\kerts\\Documents\\Projects\\Python\\PazakDetector\\venv\\lib\\site-packages\\keras\\dtensor\\utils.py\", line 144, in _wrap_function\n        init_method(instance, *args, **kwargs)\n\n    TypeError: PrecisionAtRecall.__init__() missing 1 required positional argument: 'recall'\n",
     "output_type": "error",
     "traceback": [
      "\u001B[1;31m---------------------------------------------------------------------------\u001B[0m",
      "\u001B[1;31mTypeError\u001B[0m                                 Traceback (most recent call last)",
      "Cell \u001B[1;32mIn [161], line 6\u001B[0m\n\u001B[0;32m      4\u001B[0m mc \u001B[38;5;241m=\u001B[39m ModelCheckpoint(\u001B[38;5;124m'\u001B[39m\u001B[38;5;124mbest_model2.h5\u001B[39m\u001B[38;5;124m'\u001B[39m, monitor\u001B[38;5;241m=\u001B[39m\u001B[38;5;124m'\u001B[39m\u001B[38;5;124mval_accuracy\u001B[39m\u001B[38;5;124m'\u001B[39m, mode\u001B[38;5;241m=\u001B[39m\u001B[38;5;124m'\u001B[39m\u001B[38;5;124mmax\u001B[39m\u001B[38;5;124m'\u001B[39m, verbose\u001B[38;5;241m=\u001B[39m\u001B[38;5;241m1\u001B[39m, save_best_only\u001B[38;5;241m=\u001B[39m\u001B[38;5;28;01mTrue\u001B[39;00m)\n\u001B[0;32m      5\u001B[0m \u001B[38;5;66;03m#mc = ModelCheckpoint('best_model2.h5', monitor='val_auc', mode='max', verbose=1, save_best_only=True)\u001B[39;00m\n\u001B[1;32m----> 6\u001B[0m history \u001B[38;5;241m=\u001B[39m \u001B[43mmodel1\u001B[49m\u001B[38;5;241;43m.\u001B[39;49m\u001B[43mfit\u001B[49m\u001B[43m(\u001B[49m\u001B[43mX_train\u001B[49m\u001B[43m,\u001B[49m\u001B[43m \u001B[49m\u001B[43my_train\u001B[49m\u001B[43m,\u001B[49m\u001B[43m \u001B[49m\u001B[43mvalidation_data\u001B[49m\u001B[38;5;241;43m=\u001B[39;49m\u001B[43m(\u001B[49m\u001B[43mX_test\u001B[49m\u001B[43m,\u001B[49m\u001B[43m \u001B[49m\u001B[43my_test\u001B[49m\u001B[43m)\u001B[49m\u001B[43m,\u001B[49m\u001B[43m \u001B[49m\u001B[43mepochs\u001B[49m\u001B[38;5;241;43m=\u001B[39;49m\u001B[38;5;241;43m4000\u001B[39;49m\u001B[43m,\u001B[49m\u001B[43m \u001B[49m\u001B[43mverbose\u001B[49m\u001B[38;5;241;43m=\u001B[39;49m\u001B[38;5;241;43m1\u001B[39;49m\u001B[43m,\u001B[49m\u001B[43m \u001B[49m\u001B[43mcallbacks\u001B[49m\u001B[38;5;241;43m=\u001B[39;49m\u001B[43m[\u001B[49m\u001B[43mes\u001B[49m\u001B[43m,\u001B[49m\u001B[43m \u001B[49m\u001B[43mmc\u001B[49m\u001B[43m]\u001B[49m\u001B[43m)\u001B[49m\n",
      "File \u001B[1;32m~\\Documents\\Projects\\Python\\PazakDetector\\venv\\lib\\site-packages\\keras\\utils\\traceback_utils.py:70\u001B[0m, in \u001B[0;36mfilter_traceback.<locals>.error_handler\u001B[1;34m(*args, **kwargs)\u001B[0m\n\u001B[0;32m     67\u001B[0m     filtered_tb \u001B[38;5;241m=\u001B[39m _process_traceback_frames(e\u001B[38;5;241m.\u001B[39m__traceback__)\n\u001B[0;32m     68\u001B[0m     \u001B[38;5;66;03m# To get the full stack trace, call:\u001B[39;00m\n\u001B[0;32m     69\u001B[0m     \u001B[38;5;66;03m# `tf.debugging.disable_traceback_filtering()`\u001B[39;00m\n\u001B[1;32m---> 70\u001B[0m     \u001B[38;5;28;01mraise\u001B[39;00m e\u001B[38;5;241m.\u001B[39mwith_traceback(filtered_tb) \u001B[38;5;28;01mfrom\u001B[39;00m \u001B[38;5;28mNone\u001B[39m\n\u001B[0;32m     71\u001B[0m \u001B[38;5;28;01mfinally\u001B[39;00m:\n\u001B[0;32m     72\u001B[0m     \u001B[38;5;28;01mdel\u001B[39;00m filtered_tb\n",
      "File \u001B[1;32m~\\AppData\\Local\\Temp\\__autograph_generated_filezwel8d7u.py:15\u001B[0m, in \u001B[0;36mouter_factory.<locals>.inner_factory.<locals>.tf__train_function\u001B[1;34m(iterator)\u001B[0m\n\u001B[0;32m     13\u001B[0m \u001B[38;5;28;01mtry\u001B[39;00m:\n\u001B[0;32m     14\u001B[0m     do_return \u001B[38;5;241m=\u001B[39m \u001B[38;5;28;01mTrue\u001B[39;00m\n\u001B[1;32m---> 15\u001B[0m     retval_ \u001B[38;5;241m=\u001B[39m ag__\u001B[38;5;241m.\u001B[39mconverted_call(ag__\u001B[38;5;241m.\u001B[39mld(step_function), (ag__\u001B[38;5;241m.\u001B[39mld(\u001B[38;5;28mself\u001B[39m), ag__\u001B[38;5;241m.\u001B[39mld(iterator)), \u001B[38;5;28;01mNone\u001B[39;00m, fscope)\n\u001B[0;32m     16\u001B[0m \u001B[38;5;28;01mexcept\u001B[39;00m:\n\u001B[0;32m     17\u001B[0m     do_return \u001B[38;5;241m=\u001B[39m \u001B[38;5;28;01mFalse\u001B[39;00m\n",
      "\u001B[1;31mTypeError\u001B[0m: in user code:\n\n    File \"C:\\Users\\kerts\\Documents\\Projects\\Python\\PazakDetector\\venv\\lib\\site-packages\\keras\\engine\\training.py\", line 1160, in train_function  *\n        return step_function(self, iterator)\n    File \"C:\\Users\\kerts\\Documents\\Projects\\Python\\PazakDetector\\venv\\lib\\site-packages\\keras\\engine\\training.py\", line 1146, in step_function  **\n        outputs = model.distribute_strategy.run(run_step, args=(data,))\n    File \"C:\\Users\\kerts\\Documents\\Projects\\Python\\PazakDetector\\venv\\lib\\site-packages\\keras\\engine\\training.py\", line 1135, in run_step  **\n        outputs = model.train_step(data)\n    File \"C:\\Users\\kerts\\Documents\\Projects\\Python\\PazakDetector\\venv\\lib\\site-packages\\keras\\engine\\training.py\", line 998, in train_step\n        return self.compute_metrics(x, y, y_pred, sample_weight)\n    File \"C:\\Users\\kerts\\Documents\\Projects\\Python\\PazakDetector\\venv\\lib\\site-packages\\keras\\engine\\training.py\", line 1092, in compute_metrics\n        self.compiled_metrics.update_state(y, y_pred, sample_weight)\n    File \"C:\\Users\\kerts\\Documents\\Projects\\Python\\PazakDetector\\venv\\lib\\site-packages\\keras\\engine\\compile_utils.py\", line 577, in update_state\n        self.build(y_pred, y_true)\n    File \"C:\\Users\\kerts\\Documents\\Projects\\Python\\PazakDetector\\venv\\lib\\site-packages\\keras\\engine\\compile_utils.py\", line 483, in build\n        self._metrics = tf.__internal__.nest.map_structure_up_to(\n    File \"C:\\Users\\kerts\\Documents\\Projects\\Python\\PazakDetector\\venv\\lib\\site-packages\\keras\\engine\\compile_utils.py\", line 631, in _get_metric_objects\n        return [self._get_metric_object(m, y_t, y_p) for m in metrics]\n    File \"C:\\Users\\kerts\\Documents\\Projects\\Python\\PazakDetector\\venv\\lib\\site-packages\\keras\\engine\\compile_utils.py\", line 631, in <listcomp>\n        return [self._get_metric_object(m, y_t, y_p) for m in metrics]\n    File \"C:\\Users\\kerts\\Documents\\Projects\\Python\\PazakDetector\\venv\\lib\\site-packages\\keras\\engine\\compile_utils.py\", line 650, in _get_metric_object\n        metric_obj = metrics_mod.get(metric)\n    File \"C:\\Users\\kerts\\Documents\\Projects\\Python\\PazakDetector\\venv\\lib\\site-packages\\keras\\metrics\\__init__.py\", line 181, in get\n        return deserialize(str(identifier))\n    File \"C:\\Users\\kerts\\Documents\\Projects\\Python\\PazakDetector\\venv\\lib\\site-packages\\keras\\metrics\\__init__.py\", line 136, in deserialize\n        return deserialize_keras_object(\n    File \"C:\\Users\\kerts\\Documents\\Projects\\Python\\PazakDetector\\venv\\lib\\site-packages\\keras\\utils\\generic_utils.py\", line 780, in deserialize_keras_object\n        return obj()\n    File \"C:\\Users\\kerts\\Documents\\Projects\\Python\\PazakDetector\\venv\\lib\\site-packages\\keras\\dtensor\\utils.py\", line 144, in _wrap_function\n        init_method(instance, *args, **kwargs)\n\n    TypeError: PrecisionAtRecall.__init__() missing 1 required positional argument: 'recall'\n"
     ]
    }
   ],
   "source": [
    "# fit model\n",
    "es = EarlyStopping(monitor='val_loss', mode='min', verbose=1, patience=100)\n",
    "#es = EarlyStopping(monitor='val_auc', mode='max', verbose=1, patience=100)\n",
    "mc = ModelCheckpoint('best_model2.h5', monitor='val_accuracy', mode='max', verbose=1, save_best_only=True)\n",
    "#mc = ModelCheckpoint('best_model2.h5', monitor='val_auc', mode='max', verbose=1, save_best_only=True)\n",
    "history = model1.fit(X_train, y_train, validation_data=(X_test, y_test), epochs=4000, verbose=1, callbacks=[es, mc])"
   ],
   "metadata": {
    "collapsed": false,
    "pycharm": {
     "name": "#%%\n"
    }
   }
  },
  {
   "cell_type": "code",
   "execution_count": 163,
   "outputs": [
    {
     "name": "stdout",
     "output_type": "stream",
     "text": [
      "Train: 0.999, Test: 0.999\n"
     ]
    }
   ],
   "source": [
    "# load the saved model\n",
    "saved_model = load_model('best_model1.h5')\n",
    "# evaluate the model\n",
    "_, train_acc = saved_model.evaluate(X_train, y_train, verbose=0)\n",
    "_, test_acc = saved_model.evaluate(X_test, y_test, verbose=0)\n",
    "print('Train: %.3f, Test: %.3f' % (train_acc, test_acc))"
   ],
   "metadata": {
    "collapsed": false,
    "pycharm": {
     "name": "#%%\n"
    }
   }
  },
  {
   "cell_type": "code",
   "execution_count": 164,
   "outputs": [
    {
     "name": "stdout",
     "output_type": "stream",
     "text": [
      "Train: 0.999, Test: 0.999\n"
     ]
    },
    {
     "data": {
      "text/plain": "<Figure size 640x480 with 1 Axes>",
      "image/png": "[encoded data removed]"
     },
     "metadata": {},
     "output_type": "display_data"
    }
   ],
   "source": [
    "print('Train: %.3f, Test: %.3f' % (train_acc, test_acc))\n",
    "# plot training history\n",
    "plt.plot(history.history['loss'], label='train')\n",
    "plt.plot(history.history['val_loss'], label='test')\n",
    "plt.legend()\n",
    "plt.show()"
   ],
   "metadata": {
    "collapsed": false,
    "pycharm": {
     "name": "#%%\n"
    }
   }
  },
  {
   "cell_type": "markdown",
   "source": [],
   "metadata": {
    "collapsed": false,
    "pycharm": {
     "name": "#%% md\n"
    }
   }
  },
  {
   "cell_type": "code",
   "execution_count": 165,
   "outputs": [
    {
     "name": "stdout",
     "output_type": "stream",
     "text": [
      "211/211 [==============================] - 0s 1ms/step\n"
     ]
    }
   ],
   "source": [
    "y_pred = saved_model.predict(X)\n",
    "y_pred = (y_pred>0.5) #sigmoid"
   ],
   "metadata": {
    "collapsed": false,
    "pycharm": {
     "name": "#%%\n"
    }
   }
  },
  {
   "cell_type": "code",
   "execution_count": 166,
   "outputs": [
    {
     "name": "stdout",
     "output_type": "stream",
     "text": [
      "[[5234    0]\n",
      " [   8 1481]]\n"
     ]
    }
   ],
   "source": [
    "from sklearn.metrics import confusion_matrix\n",
    "cm=confusion_matrix(y.values,y_pred)\n",
    "print(cm)"
   ],
   "metadata": {
    "collapsed": false,
    "pycharm": {
     "name": "#%%\n"
    }
   }
  }
 ],
 "metadata": {
  "kernelspec": {
   "display_name": "Python 3",
   "language": "python",
   "name": "python3"
  },
  "language_info": {
   "codemirror_mode": {
    "name": "ipython",
    "version": 2
   },
   "file_extension": ".py",
   "mimetype": "text/x-python",
   "name": "python",
   "nbconvert_exporter": "python",
   "pygments_lexer": "ipython2",
   "version": "2.7.6"
  }
 },
 "nbformat": 4,
 "nbformat_minor": 0
}