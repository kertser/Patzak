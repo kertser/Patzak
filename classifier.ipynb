{
 "cells": [
  {
   "cell_type": "code",
   "execution_count": 46,
   "metadata": {
    "collapsed": true,
    "pycharm": {
     "name": "#%%\n"
    }
   },
   "outputs": [],
   "source": [
    "# imports:\n",
    "import pandas as pd\n",
    "from sklearn.cluster import KMeans\n",
    "import pickle\n",
    "pazak = {0:'Pazak',1:'Chatlanin'}"
   ]
  },
  {
   "cell_type": "code",
   "execution_count": 8,
   "outputs": [
    {
     "data": {
      "text/plain": "   left_eye-right_eye  left_eye-nose  left_eye-mouth_left  \\\n0            0.436686       0.293929             0.395205   \n1            0.456806       0.315478             0.393492   \n2            0.322055       0.361824             0.398738   \n3            0.460852       0.304153             0.346807   \n4            0.458330       0.338282             0.357675   \n\n   left_eye-mouth_right  right_eye-left_eye  right_eye-nose  \\\n0              0.534884            0.436686        0.414687   \n1              0.565061            0.456806        0.306828   \n2              0.552498            0.322055        0.132640   \n3              0.524620            0.460852        0.320136   \n4              0.570839            0.458330        0.268791   \n\n   right_eye-mouth_left  right_eye-mouth_right  nose-left_eye  nose-right_eye  \\\n0              0.623971               0.396065       0.293929        0.414687   \n1              0.578675               0.385199       0.315478        0.306828   \n2              0.432794               0.386573       0.361824        0.132640   \n3              0.588235               0.354559       0.304153        0.320136   \n4              0.537670               0.352675       0.338282        0.268791   \n\n   nose-mouth_left  nose-mouth_right  mouth_left-left_eye  \\\n0         0.209624          0.274371             0.395205   \n1         0.271917          0.249626             0.393492   \n2         0.332479          0.254903             0.398738   \n3         0.270767          0.221016             0.346807   \n4         0.271729          0.233396             0.357675   \n\n   mouth_left-right_eye  mouth_left-nose  mouth_left-mouth_right  \\\n0              0.623971         0.209624                0.414936   \n1              0.578675         0.271917                0.384240   \n2              0.432794         0.332479                0.285892   \n3              0.588235         0.270767                0.407139   \n4              0.537670         0.271729                0.395606   \n\n   mouth_right-left_eye  mouth_right-right_eye  mouth_right-nose  \\\n0              0.534884               0.396065          0.274371   \n1              0.565061               0.385199          0.249626   \n2              0.552498               0.386573          0.254903   \n3              0.524620               0.354559          0.221016   \n4              0.570839               0.352675          0.233396   \n\n   mouth_right-mouth_left  \n0                0.414936  \n1                0.384240  \n2                0.285892  \n3                0.407139  \n4                0.395606  ",
      "text/html": "<div>\n<style scoped>\n    .dataframe tbody tr th:only-of-type {\n        vertical-align: middle;\n    }\n\n    .dataframe tbody tr th {\n        vertical-align: top;\n    }\n\n    .dataframe thead th {\n        text-align: right;\n    }\n</style>\n<table border=\"1\" class=\"dataframe\">\n  <thead>\n    <tr style=\"text-align: right;\">\n      <th></th>\n      <th>left_eye-right_eye</th>\n      <th>left_eye-nose</th>\n      <th>left_eye-mouth_left</th>\n      <th>left_eye-mouth_right</th>\n      <th>right_eye-left_eye</th>\n      <th>right_eye-nose</th>\n      <th>right_eye-mouth_left</th>\n      <th>right_eye-mouth_right</th>\n      <th>nose-left_eye</th>\n      <th>nose-right_eye</th>\n      <th>nose-mouth_left</th>\n      <th>nose-mouth_right</th>\n      <th>mouth_left-left_eye</th>\n      <th>mouth_left-right_eye</th>\n      <th>mouth_left-nose</th>\n      <th>mouth_left-mouth_right</th>\n      <th>mouth_right-left_eye</th>\n      <th>mouth_right-right_eye</th>\n      <th>mouth_right-nose</th>\n      <th>mouth_right-mouth_left</th>\n    </tr>\n  </thead>\n  <tbody>\n    <tr>\n      <th>0</th>\n      <td>0.436686</td>\n      <td>0.293929</td>\n      <td>0.395205</td>\n      <td>0.534884</td>\n      <td>0.436686</td>\n      <td>0.414687</td>\n      <td>0.623971</td>\n      <td>0.396065</td>\n      <td>0.293929</td>\n      <td>0.414687</td>\n      <td>0.209624</td>\n      <td>0.274371</td>\n      <td>0.395205</td>\n      <td>0.623971</td>\n      <td>0.209624</td>\n      <td>0.414936</td>\n      <td>0.534884</td>\n      <td>0.396065</td>\n      <td>0.274371</td>\n      <td>0.414936</td>\n    </tr>\n    <tr>\n      <th>1</th>\n      <td>0.456806</td>\n      <td>0.315478</td>\n      <td>0.393492</td>\n      <td>0.565061</td>\n      <td>0.456806</td>\n      <td>0.306828</td>\n      <td>0.578675</td>\n      <td>0.385199</td>\n      <td>0.315478</td>\n      <td>0.306828</td>\n      <td>0.271917</td>\n      <td>0.249626</td>\n      <td>0.393492</td>\n      <td>0.578675</td>\n      <td>0.271917</td>\n      <td>0.384240</td>\n      <td>0.565061</td>\n      <td>0.385199</td>\n      <td>0.249626</td>\n      <td>0.384240</td>\n    </tr>\n    <tr>\n      <th>2</th>\n      <td>0.322055</td>\n      <td>0.361824</td>\n      <td>0.398738</td>\n      <td>0.552498</td>\n      <td>0.322055</td>\n      <td>0.132640</td>\n      <td>0.432794</td>\n      <td>0.386573</td>\n      <td>0.361824</td>\n      <td>0.132640</td>\n      <td>0.332479</td>\n      <td>0.254903</td>\n      <td>0.398738</td>\n      <td>0.432794</td>\n      <td>0.332479</td>\n      <td>0.285892</td>\n      <td>0.552498</td>\n      <td>0.386573</td>\n      <td>0.254903</td>\n      <td>0.285892</td>\n    </tr>\n    <tr>\n      <th>3</th>\n      <td>0.460852</td>\n      <td>0.304153</td>\n      <td>0.346807</td>\n      <td>0.524620</td>\n      <td>0.460852</td>\n      <td>0.320136</td>\n      <td>0.588235</td>\n      <td>0.354559</td>\n      <td>0.304153</td>\n      <td>0.320136</td>\n      <td>0.270767</td>\n      <td>0.221016</td>\n      <td>0.346807</td>\n      <td>0.588235</td>\n      <td>0.270767</td>\n      <td>0.407139</td>\n      <td>0.524620</td>\n      <td>0.354559</td>\n      <td>0.221016</td>\n      <td>0.407139</td>\n    </tr>\n    <tr>\n      <th>4</th>\n      <td>0.458330</td>\n      <td>0.338282</td>\n      <td>0.357675</td>\n      <td>0.570839</td>\n      <td>0.458330</td>\n      <td>0.268791</td>\n      <td>0.537670</td>\n      <td>0.352675</td>\n      <td>0.338282</td>\n      <td>0.268791</td>\n      <td>0.271729</td>\n      <td>0.233396</td>\n      <td>0.357675</td>\n      <td>0.537670</td>\n      <td>0.271729</td>\n      <td>0.395606</td>\n      <td>0.570839</td>\n      <td>0.352675</td>\n      <td>0.233396</td>\n      <td>0.395606</td>\n    </tr>\n  </tbody>\n</table>\n</div>"
     },
     "execution_count": 8,
     "metadata": {},
     "output_type": "execute_result"
    }
   ],
   "source": [
    "# Load euclidean distances data\n",
    "df = pd.read_csv('Data/faces_euclidean_features.csv')\n",
    "df.head()"
   ],
   "metadata": {
    "collapsed": false,
    "pycharm": {
     "name": "#%%\n"
    }
   }
  },
  {
   "cell_type": "code",
   "execution_count": 42,
   "outputs": [],
   "source": [
    "model = KMeans(n_clusters=2, random_state=42).fit(df.values)"
   ],
   "metadata": {
    "collapsed": false,
    "pycharm": {
     "name": "#%%\n"
    }
   }
  },
  {
   "cell_type": "code",
   "execution_count": 47,
   "outputs": [],
   "source": [
    "with open(\"pazak.pkl\", \"wb\") as f:\n",
    "    pickle.dump(model, f)"
   ],
   "metadata": {
    "collapsed": false,
    "pycharm": {
     "name": "#%%\n"
    }
   }
  },
  {
   "cell_type": "code",
   "execution_count": null,
   "outputs": [],
   "source": [
    "with open(\"model.pkl\", \"rb\") as f:\n",
    "    model = pickle.load(f)"
   ],
   "metadata": {
    "collapsed": false,
    "pycharm": {
     "name": "#%%\n"
    }
   }
  },
  {
   "cell_type": "code",
   "execution_count": 54,
   "outputs": [
    {
     "data": {
      "text/plain": "'Chatlanin'"
     },
     "execution_count": 54,
     "metadata": {},
     "output_type": "execute_result"
    }
   ],
   "source": [
    "pazak[model.predict([df.iloc[11]])[0]]"
   ],
   "metadata": {
    "collapsed": false,
    "pycharm": {
     "name": "#%%\n"
    }
   }
  }
 ],
 "metadata": {
  "kernelspec": {
   "display_name": "Python 3",
   "language": "python",
   "name": "python3"
  },
  "language_info": {
   "codemirror_mode": {
    "name": "ipython",
    "version": 2
   },
   "file_extension": ".py",
   "mimetype": "text/x-python",
   "name": "python",
   "nbconvert_exporter": "python",
   "pygments_lexer": "ipython2",
   "version": "2.7.6"
  }
 },
 "nbformat": 4,
 "nbformat_minor": 0
}